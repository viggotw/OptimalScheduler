{
 "cells": [
  {
   "cell_type": "markdown",
   "metadata": {
    "slideshow": {
     "slide_type": "slide"
    }
   },
   "source": [
    "# Optimal timeplan\n",
    "\n",
    "Ukentlig er det utallige bedrifter som setter opp vaktplaner for sine ansatte, det være seg på en restaurant, et sykehus eller store byggeprosjekt. Dette er en kjedelig og tidkrevende jobb som må tilfredstille mange krav, og som ikke nødvendigvis resulterer i den beste mulige planen. I Siemens-prosjektet ble jeg hekta på optimering og vitenskapen bak å finne løsninger på problem som beviselig er \"den beste løsningen\". Verktøyene man bruker til dette er grunnleggende og lavnivå, men fleksible. Som et hobbyprosjekt har jeg abstrahert disse byggeklossene til et lite rammeverk for ressursallokering som genererer optimale timeplaner.\n",
    "\n",
    "<b><center>«Verdi – raskere – smartere»!</center></b>"
   ]
  },
  {
   "cell_type": "markdown",
   "metadata": {
    "slideshow": {
     "slide_type": "subslide"
    }
   },
   "source": [
    "## Hva er en timeplan?"
   ]
  },
  {
   "cell_type": "markdown",
   "metadata": {
    "slideshow": {
     "slide_type": "notes"
    }
   },
   "source": [
    "En typisk timeplan ser gjerne ut som den under. Man har personer nedover som rader, og en kolonne per dag eller skift. Ved jevne perioder fyller en leder ut dette arket ved å markere en X der en gitt person skal jobbe en gitt vakt, og et tomt felt hvis personen ikke skal jobbe."
   ]
  },
  {
   "cell_type": "markdown",
   "metadata": {
    "ExecuteTime": {
     "end_time": "2020-10-27T09:44:29.206865Z",
     "start_time": "2020-10-27T09:44:29.202561Z"
    },
    "slideshow": {
     "slide_type": "subslide"
    }
   },
   "source": [
    "<img src=\"Presentations/Fagdag 2020/Timeplan eksempel.png\">"
   ]
  },
  {
   "cell_type": "markdown",
   "metadata": {
    "slideshow": {
     "slide_type": "subslide"
    }
   },
   "source": [
    "## Utfordringer ved å generere en plan\n",
    "\n",
    "Det å lage en slik timeplan kan være ganske tidkrevende. I vårt eksempel er det kun 9 ansatte som skal plasseres på 7 dager, men man kan også tenke seg arbeidssituasjoner med mange flere ansatte og enda flere skift.\n",
    "\n",
    "<img src=\"Presentations/Fagdag 2020/Timeplan.png\">"
   ]
  },
  {
   "cell_type": "markdown",
   "metadata": {
    "slideshow": {
     "slide_type": "subslide"
    }
   },
   "source": [
    "### Krav til skiftene\n",
    "<img src=\"Presentations/Fagdag 2020/Timeplan - krav til skift.png\">\n",
    "\n",
    "Likevel, selv vårt relativt enkle eksempel blir fort vanskeligere når man begynner å forholde seg til enkelte krav som stilles til en god timeplan. Man har for eksempel krav til å opprettholde en minimum kapasitet på skiftene."
   ]
  },
  {
   "cell_type": "markdown",
   "metadata": {
    "slideshow": {
     "slide_type": "subslide"
    }
   },
   "source": [
    "### Krav til de ansatte\n",
    "<img src=\"Presentations/Fagdag 2020/Timeplan - krav til ansatte.png\">\n",
    "\n",
    "De ansatte kan også ha krav på et antall vakter som verken er for mange eller for få.\n",
    "\n",
    "I tillegg til disse kravene, så har de ansatte ofte spesifikke og variererte ønsker og innspill til skiftene de ønsker seg, være seg spesielle skift de ønsker å jobbe på, avspassering eller medarbeidere de trives eller mistrives med. Det er mange faktorer som skal tas hensyn til."
   ]
  },
  {
   "cell_type": "markdown",
   "metadata": {
    "slideshow": {
     "slide_type": "subslide"
    }
   },
   "source": [
    "Som man rask forstår, så kan prosessen med å sette opp en timeplan være kompleks og tidkrevende. Og enda mer deprimerrende, etter å ha brukt masse arbeid på å lage en god timeplan, så er man fremdeles ikke sikker på hvor _god_ planen egentlig er. En ting er at den tilfredstiller alle kravene, men det er mange planer som kan tilfredstille alle kravene men som likevel ikke vil anses som en god plan. For eksempel er det ikke noen vits i å plassere to team-ledere på samme skift dersom det bare trengs én, ettersom team-lederne kan være dyrere i drift enn vanlige ansatte.\n",
    "\n",
    "<img src=\"Presentations/Fagdag 2020/Timeplan versus.png\">"
   ]
  },
  {
   "cell_type": "markdown",
   "metadata": {
    "slideshow": {
     "slide_type": "slide"
    }
   },
   "source": [
    "## Løsningen\n",
    "Det er dette problemet rammeverket mitt forsøker å løse. Den er inspirert av paperet <a href=\"https://www.researchgate.net/publication/323869087_A_new_formulation_and_solution_for_the_nurse_scheduling_problem_A_case_study_in_Egypt\">A new formulation and solution for the nurse scheduling problem: A case study in Egypt</a> som utledet en matematisk formulering av problemet. Rammeverket er basert på metoden Mixed-Integer Linear Programming (MILP) som er en måte å formulere optimeringsproblem på, som muliggjør å løse dem relativt rask og garanterer at løsningen er globalt optimal.\n",
    "\n",
    "La oss ta en titt på hvordan det brukes:"
   ]
  },
  {
   "cell_type": "code",
   "execution_count": 1,
   "metadata": {
    "ExecuteTime": {
     "end_time": "2020-10-27T11:48:04.380327Z",
     "start_time": "2020-10-27T11:48:03.793335Z"
    },
    "slideshow": {
     "slide_type": "fragment"
    }
   },
   "outputs": [],
   "source": [
    "from network.model import Network"
   ]
  },
  {
   "cell_type": "code",
   "execution_count": 2,
   "metadata": {
    "ExecuteTime": {
     "end_time": "2020-10-27T11:48:04.386326Z",
     "start_time": "2020-10-27T11:48:04.382330Z"
    },
    "slideshow": {
     "slide_type": "fragment"
    }
   },
   "outputs": [],
   "source": [
    "# INITIALIZE PROBLEM\n",
    "network = Network(\"ShiftScheduler\")\n",
    "network.setAttributes('SUPERVISOR')"
   ]
  },
  {
   "cell_type": "markdown",
   "metadata": {
    "slideshow": {
     "slide_type": "subslide"
    }
   },
   "source": [
    "### Krav til ansatte\n",
    "<img src=\"Presentations/Fagdag 2020/Timeplan - krav til ansatte.png\">"
   ]
  },
  {
   "cell_type": "code",
   "execution_count": 3,
   "metadata": {
    "ExecuteTime": {
     "end_time": "2020-10-27T11:48:04.398863Z",
     "start_time": "2020-10-27T11:48:04.389875Z"
    },
    "slideshow": {
     "slide_type": "fragment"
    }
   },
   "outputs": [],
   "source": [
    "# WORKERS\n",
    "network.addSource('Guri Malla',   cost=2500, capacityMin=2, capacityMax=2, attrs={\"SUPERVISOR\"})\n",
    "network.addSource('Søren Klype',  cost=2300, capacityMin=3, capacityMax=5, attrs={\"SUPERVISOR\"})\n",
    "network.addSource('Helle Dussen', cost=2300, capacityMin=3, capacityMax=5, attrs={\"SUPERVISOR\"})\n",
    "network.addSource('Fader Ullan',  cost=1800, capacityMin=3, capacityMax=5, attrs={\"SUPERVISOR\"})\n",
    "network.addSource('Milde Moses',  cost=1500, capacityMin=2, capacityMax=5)\n",
    "network.addSource('Gamle-Erik',   cost=1500, capacityMin=2, capacityMax=5)\n",
    "network.addSource('Gubben Noa',   cost=1500, capacityMin=1, capacityMax=4)\n",
    "network.addSource('Vittig-Per',   cost=1000, capacityMin=1, capacityMax=4)\n",
    "network.addSource('Finn Urlig',   cost=800, capacityMin=1,  capacityMax=2)"
   ]
  },
  {
   "cell_type": "markdown",
   "metadata": {
    "slideshow": {
     "slide_type": "subslide"
    }
   },
   "source": [
    "### Krav til skiftene\n",
    "<img src=\"Presentations/Fagdag 2020/Timeplan - krav til skift.png\">"
   ]
  },
  {
   "cell_type": "code",
   "execution_count": 4,
   "metadata": {
    "ExecuteTime": {
     "end_time": "2020-10-27T11:48:04.407872Z",
     "start_time": "2020-10-27T11:48:04.399866Z"
    },
    "slideshow": {
     "slide_type": "fragment"
    }
   },
   "outputs": [],
   "source": [
    "# SHIFTS\n",
    "network.addSink('Monday',    capacityMin=4, attrs={\"SUPERVISOR\": 1})\n",
    "network.addSink('Tuesday',   capacityMin=4, attrs={\"SUPERVISOR\": 1})\n",
    "network.addSink('Wednesday', capacityMin=3, attrs={\"SUPERVISOR\": 1})\n",
    "network.addSink('Thursday',  capacityMin=4, attrs={\"SUPERVISOR\": 1})\n",
    "network.addSink('Friday',    capacityMin=5, attrs={\"SUPERVISOR\": 2})\n",
    "network.addSink('Saturday',  capacityMin=5, attrs={\"SUPERVISOR\": 2})\n",
    "network.addSink('Sunday',    capacityMin=3, attrs={\"SUPERVISOR\": 1})"
   ]
  },
  {
   "cell_type": "code",
   "execution_count": 5,
   "metadata": {
    "ExecuteTime": {
     "end_time": "2020-10-27T11:48:04.540874Z",
     "start_time": "2020-10-27T11:48:04.410861Z"
    },
    "slideshow": {
     "slide_type": "subslide"
    }
   },
   "outputs": [],
   "source": [
    "# SOLVE\n",
    "status = network.solve(optSense=\"minimize\", objectiveMode=\"none\", msg=False)"
   ]
  },
  {
   "cell_type": "code",
   "execution_count": 6,
   "metadata": {
    "ExecuteTime": {
     "end_time": "2020-10-27T11:48:04.560874Z",
     "start_time": "2020-10-27T11:48:04.542865Z"
    },
    "slideshow": {
     "slide_type": "fragment"
    }
   },
   "outputs": [
    {
     "name": "stdout",
     "output_type": "stream",
     "text": [
      "Optimal\n",
      "Objective value: None\n",
      "Total cost: 50900.0\n",
      "Happiness: 0\n",
      "    > 0 requests accepted\n",
      "    > 0 requests rejected\n",
      "\n",
      "             Monday Tuesday Wednesday Thursday Friday Saturday Sunday\n",
      "Guri Malla                                          1        1       \n",
      "Søren Klype       1       1                  1      1                \n",
      "Helle Dussen              1         1        1               1      1\n",
      "Fader Ullan       1                                          1      1\n",
      "Milde Moses       1                          1      1               1\n",
      "Gamle-Erik        1       1         1                        1       \n",
      "Gubben Noa                1         1        1      1                \n",
      "Vittig-Per                                          1                \n",
      "Finn Urlig                                                   1       \n"
     ]
    }
   ],
   "source": [
    "print(status)\n",
    "print(f\"Objective value: {network._model.objective.value()}\")\n",
    "if status == 'Optimal':\n",
    "    result = network.getResult()\n",
    "    print()\n",
    "    print(result.replace(0, ' '))"
   ]
  },
  {
   "cell_type": "markdown",
   "metadata": {
    "ExecuteTime": {
     "end_time": "2020-10-27T05:46:21.750273Z",
     "start_time": "2020-10-27T05:46:21.745273Z"
    },
    "slideshow": {
     "slide_type": "slide"
    }
   },
   "source": [
    "## Minimere utgifter\n",
    "Eksempelet over tilfredstiller alle kravene, men forsøker ikke å kutte kostnadder. La oss endre det ene parameteret til solveren til `objectiveMode=\"cost\"`."
   ]
  },
  {
   "cell_type": "code",
   "execution_count": 7,
   "metadata": {
    "ExecuteTime": {
     "end_time": "2020-10-27T11:48:04.693866Z",
     "start_time": "2020-10-27T11:48:04.563867Z"
    },
    "slideshow": {
     "slide_type": "subslide"
    }
   },
   "outputs": [],
   "source": [
    "# INITIALIZE PROBLEM\n",
    "network = Network(\"ShiftScheduler\")\n",
    "network.setAttributes('SUPERVISOR')\n",
    "\n",
    "# WORKERS\n",
    "network.addSource('Guri Malla',   cost=2500, capacityMin=2, capacityMax=2, attrs={\"SUPERVISOR\"})\n",
    "network.addSource('Søren Klype',  cost=2300, capacityMin=3, capacityMax=5, attrs={\"SUPERVISOR\"})\n",
    "network.addSource('Helle Dussen', cost=2300, capacityMin=3, capacityMax=5, attrs={\"SUPERVISOR\"})\n",
    "network.addSource('Fader Ullan',  cost=1800, capacityMin=3, capacityMax=5, attrs={\"SUPERVISOR\"})\n",
    "network.addSource('Milde Moses',  cost=1500, capacityMin=2, capacityMax=5)\n",
    "network.addSource('Gamle-Erik',   cost=1500, capacityMin=2, capacityMax=5)\n",
    "network.addSource('Gubben Noa',   cost=1500, capacityMin=1, capacityMax=4)\n",
    "network.addSource('Vittig-Per',   cost=1000, capacityMin=1, capacityMax=4)\n",
    "network.addSource('Finn Urlig',   cost=800, capacityMin=1,  capacityMax=2)\n",
    "\n",
    "# SHIFTS\n",
    "network.addSink('Monday',    capacityMin=4, attrs={\"SUPERVISOR\": 1})\n",
    "network.addSink('Tuesday',   capacityMin=4, attrs={\"SUPERVISOR\": 1})\n",
    "network.addSink('Wednesday', capacityMin=3, attrs={\"SUPERVISOR\": 1})\n",
    "network.addSink('Thursday',  capacityMin=4, attrs={\"SUPERVISOR\": 1})\n",
    "network.addSink('Friday',    capacityMin=5, attrs={\"SUPERVISOR\": 2})\n",
    "network.addSink('Saturday',  capacityMin=5, attrs={\"SUPERVISOR\": 2})\n",
    "network.addSink('Sunday',    capacityMin=3, attrs={\"SUPERVISOR\": 1})\n",
    "\n",
    "# SOLVE\n",
    "status = network.solve(optSense=\"minimize\", objectiveMode=\"cost\", msg=False)"
   ]
  },
  {
   "cell_type": "code",
   "execution_count": 8,
   "metadata": {
    "ExecuteTime": {
     "end_time": "2020-10-27T11:48:04.706868Z",
     "start_time": "2020-10-27T11:48:04.695868Z"
    },
    "slideshow": {
     "slide_type": "subslide"
    }
   },
   "outputs": [
    {
     "name": "stdout",
     "output_type": "stream",
     "text": [
      "Optimal\n",
      "Objective value: 46300.0\n",
      "Total cost: 46300.0\n",
      "Happiness: 0\n",
      "    > 0 requests accepted\n",
      "    > 0 requests rejected\n",
      "\n",
      "             Monday Tuesday Wednesday Thursday Friday Saturday Sunday\n",
      "Guri Malla                1                                  1       \n",
      "Søren Klype               1         1                        1       \n",
      "Helle Dussen                                 1      1               1\n",
      "Fader Ullan       1       1                         1                \n",
      "Milde Moses       1                                 1        1       \n",
      "Gamle-Erik        1                 1        1               1       \n",
      "Gubben Noa                                   1      1        1      1\n",
      "Vittig-Per        1                          1      1               1\n",
      "Finn Urlig                1         1                                \n"
     ]
    }
   ],
   "source": [
    "print(status)\n",
    "print(f\"Objective value: {network._model.objective.value()}\")\n",
    "if status == 'Optimal':\n",
    "    result = network.getResult()\n",
    "    print()\n",
    "    print(result.replace(0, ' '))"
   ]
  },
  {
   "cell_type": "markdown",
   "metadata": {
    "slideshow": {
     "slide_type": "slide"
    }
   },
   "source": [
    "## Pålegge restriksjoner"
   ]
  },
  {
   "cell_type": "markdown",
   "metadata": {
    "slideshow": {
     "slide_type": "subslide"
    }
   },
   "source": [
    "### Tvinge ansatt til å jobbe eller ta fri\n",
    "Programmet over fant den beste mulige løsningen på problemet. Men hva skjer hvis noen ansatte må ha fri, eller må jobbe en spesiell dag? La oss legge til to slike eksempel-restriksjoner."
   ]
  },
  {
   "cell_type": "code",
   "execution_count": 9,
   "metadata": {
    "ExecuteTime": {
     "end_time": "2020-10-27T11:48:04.831866Z",
     "start_time": "2020-10-27T11:48:04.709869Z"
    },
    "slideshow": {
     "slide_type": "subslide"
    }
   },
   "outputs": [],
   "source": [
    "network = Network(\"ShiftScheduler\")\n",
    "network.setAttributes('SUPERVISOR')\n",
    "\n",
    "# WORKERS\n",
    "network.addSource('Guri Malla',   cost=2500, capacityMin=2, capacityMax=2, attrs={\"SUPERVISOR\"})\n",
    "network.addSource('Søren Klype',  cost=2300, capacityMin=3, capacityMax=5, attrs={\"SUPERVISOR\"})\n",
    "network.addSource('Helle Dussen', cost=2300, capacityMin=3, capacityMax=5, attrs={\"SUPERVISOR\"})\n",
    "network.addSource('Fader Ullan',  cost=1800, capacityMin=3, capacityMax=5, attrs={\"SUPERVISOR\"})\n",
    "network.addSource('Milde Moses',  cost=1500, capacityMin=2, capacityMax=5)\n",
    "network.addSource('Gamle-Erik',   cost=1500, capacityMin=2, capacityMax=5)\n",
    "network.addSource('Gubben Noa',   cost=1500, capacityMin=1, capacityMax=4)\n",
    "network.addSource('Vittig-Per',   cost=1000, capacityMin=1, capacityMax=4)\n",
    "network.addSource('Finn Urlig',   cost=800, capacityMin=1,  capacityMax=2)\n",
    "\n",
    "# SHIFTS\n",
    "network.addSink('Monday',    capacityMin=4, attrs={\"SUPERVISOR\": 1})\n",
    "network.addSink('Tuesday',   capacityMin=4, attrs={\"SUPERVISOR\": 1})\n",
    "network.addSink('Wednesday', capacityMin=3, attrs={\"SUPERVISOR\": 1})\n",
    "network.addSink('Thursday',  capacityMin=4, attrs={\"SUPERVISOR\": 1})\n",
    "network.addSink('Friday',    capacityMin=5, attrs={\"SUPERVISOR\": 2})\n",
    "network.addSink('Saturday',  capacityMin=5, attrs={\"SUPERVISOR\": 2})\n",
    "network.addSink('Sunday',    capacityMin=3, attrs={\"SUPERVISOR\": 1})\n",
    "\n",
    "# CONSTRAINTS\n",
    "network.addEdgeConstraint(\"Guri Malla\",  \"Monday\", \"enforce\", \"active\")\n",
    "network.addEdgeConstraint(\"Fader Ullan\", \"Monday\", \"enforce\", \"inactive\")\n",
    "\n",
    "# SOLVE\n",
    "status = network.solve(optSense=\"minimize\", objectiveMode=\"cost\", msg=False)"
   ]
  },
  {
   "cell_type": "code",
   "execution_count": 10,
   "metadata": {
    "ExecuteTime": {
     "end_time": "2020-10-27T11:48:04.849866Z",
     "start_time": "2020-10-27T11:48:04.832888Z"
    },
    "slideshow": {
     "slide_type": "subslide"
    }
   },
   "outputs": [
    {
     "name": "stdout",
     "output_type": "stream",
     "text": [
      "Optimal\n",
      "Objective value: 46300.0\n",
      "Total cost: 46300.0\n",
      "Happiness: 0\n",
      "    > 0 requests accepted\n",
      "    > 0 requests rejected\n",
      "\n",
      "             Monday Tuesday Wednesday Thursday Friday Saturday Sunday\n",
      "Guri Malla        1                                 1                \n",
      "Søren Klype                                  1               1      1\n",
      "Helle Dussen              1         1               1                \n",
      "Fader Ullan               1         1                        1       \n",
      "Milde Moses                                  1               1      1\n",
      "Gamle-Erik        1                                 1        1      1\n",
      "Gubben Noa        1       1                  1      1                \n",
      "Vittig-Per        1                          1      1        1       \n",
      "Finn Urlig                1         1                                \n"
     ]
    }
   ],
   "source": [
    "print(status)\n",
    "print(f\"Objective value: {network._model.objective.value()}\")\n",
    "if status == 'Optimal':\n",
    "    result = network.getResult()\n",
    "    print()\n",
    "    print(result.replace(0, ' '))"
   ]
  },
  {
   "cell_type": "markdown",
   "metadata": {
    "slideshow": {
     "slide_type": "subslide"
    }
   },
   "source": [
    "### Lage drømme-lag og... mareritt-lag(?)\n",
    "En annen avgjørelse en leder kan velge å ta hensyn til er hvilke ansatte som skal jobbe sammen, eller ikke jobbe sammen. Dette kan vi også legge til som en restriksjon"
   ]
  },
  {
   "cell_type": "code",
   "execution_count": 11,
   "metadata": {
    "ExecuteTime": {
     "end_time": "2020-10-27T11:48:05.000039Z",
     "start_time": "2020-10-27T11:48:04.850866Z"
    },
    "slideshow": {
     "slide_type": "subslide"
    }
   },
   "outputs": [],
   "source": [
    "network = Network(\"ShiftScheduler\")\n",
    "network.setAttributes('SUPERVISOR')\n",
    "\n",
    "# WORKERS\n",
    "network.addSource('Guri Malla',   cost=2500, capacityMin=2, capacityMax=2, attrs={\"SUPERVISOR\"})\n",
    "network.addSource('Søren Klype',  cost=2300, capacityMin=3, capacityMax=5, attrs={\"SUPERVISOR\"})\n",
    "network.addSource('Helle Dussen', cost=2300, capacityMin=3, capacityMax=5, attrs={\"SUPERVISOR\"})\n",
    "network.addSource('Fader Ullan',  cost=1800, capacityMin=3, capacityMax=5, attrs={\"SUPERVISOR\"})\n",
    "network.addSource('Milde Moses',  cost=1500, capacityMin=2, capacityMax=5)\n",
    "network.addSource('Gamle-Erik',   cost=1500, capacityMin=2, capacityMax=5)\n",
    "network.addSource('Gubben Noa',   cost=1500, capacityMin=1, capacityMax=4)\n",
    "network.addSource('Vittig-Per',   cost=1000, capacityMin=1, capacityMax=4)\n",
    "network.addSource('Finn Urlig',   cost=800, capacityMin=1,  capacityMax=2)\n",
    "\n",
    "# SHIFTS\n",
    "network.addSink('Monday',    capacityMin=4, attrs={\"SUPERVISOR\": 1})\n",
    "network.addSink('Tuesday',   capacityMin=4, attrs={\"SUPERVISOR\": 1})\n",
    "network.addSink('Wednesday', capacityMin=3, attrs={\"SUPERVISOR\": 1})\n",
    "network.addSink('Thursday',  capacityMin=4, attrs={\"SUPERVISOR\": 1})\n",
    "network.addSink('Friday',    capacityMin=5, attrs={\"SUPERVISOR\": 2})\n",
    "network.addSink('Saturday',  capacityMin=5, attrs={\"SUPERVISOR\": 2})\n",
    "network.addSink('Sunday',    capacityMin=3, attrs={\"SUPERVISOR\": 1})\n",
    "\n",
    "# CONSTRAINTS\n",
    "network.addRelationship({\"Vittig-Per\",   \"Finn Urlig\"},  mode=\"enforce\", category=\"match\")\n",
    "network.addRelationship({\"Helle Dussen\", \"Søren Klype\"}, mode=\"enforce\", category=\"mismatch\")\n",
    "\n",
    "# SOLVE\n",
    "status = network.solve(optSense=\"minimize\", objectiveMode=\"cost\", msg=False)"
   ]
  },
  {
   "cell_type": "code",
   "execution_count": 12,
   "metadata": {
    "ExecuteTime": {
     "end_time": "2020-10-27T11:48:05.014870Z",
     "start_time": "2020-10-27T11:48:05.000870Z"
    },
    "slideshow": {
     "slide_type": "subslide"
    }
   },
   "outputs": [
    {
     "name": "stdout",
     "output_type": "stream",
     "text": [
      "Optimal\n",
      "Objective value: 47300.0\n",
      "Total cost: 47300.0\n",
      "Happiness: 0\n",
      "    > 0 requests accepted\n",
      "    > 0 requests rejected\n",
      "\n",
      "             Monday Tuesday Wednesday Thursday Friday Saturday Sunday\n",
      "Guri Malla                                          1        1       \n",
      "Søren Klype       1       1                                  1       \n",
      "Helle Dussen                        1        1                      1\n",
      "Fader Ullan       1       1                         1                \n",
      "Milde Moses                         1        1      1        1       \n",
      "Gamle-Erik        1                 1        1      1        1       \n",
      "Gubben Noa        1                          1      1        1       \n",
      "Vittig-Per                1                                         1\n",
      "Finn Urlig                1                                         1\n"
     ]
    }
   ],
   "source": [
    "print(status)\n",
    "print(f\"Objective value: {network._model.objective.value()}\")\n",
    "if status == 'Optimal':\n",
    "    result = network.getResult()\n",
    "    print()\n",
    "    print(result.replace(0, ' '))"
   ]
  },
  {
   "cell_type": "markdown",
   "metadata": {
    "slideshow": {
     "slide_type": "slide"
    }
   },
   "source": [
    "## Fra tvang til forespørsler"
   ]
  },
  {
   "cell_type": "markdown",
   "metadata": {
    "slideshow": {
     "slide_type": "subslide"
    }
   },
   "source": [
    "### Forespørsel om vakter\n",
    "Tidligere la vi til restriksjoner som dikterte at en ansatt enten måtte jobbe eller ikke fikk lov til å jobbe på en spesifikk dag. Virkeligheten er heldigvis ikke så streng, og ansatte har ofte en dialog med lederen sin hvor de kan komme med forespørsler. Det er da opp til lederen å veie disse forespørslene opp mot alle de andre kravene som må tilfredstilles. Dette kan vi også gjøre, ved å endre den ene constraint-parameteren fra `enforce` til `request`. En annen viktig endring er at vi nå må benytte en annen objektivfunksjon som kan vekte kostnadden av å ha en ansatt på en gitt vakt mot den litt mer difuse kostnadden ved å ikke innfri en forespørsel. Vi må derfor oppdatere parameterne til solveren med et nytt modus til objektivfunksjonen `objectiveMode=\"cost+requests\"`, samt velge en kostnad for å ikke innfri en forespørsel, `pricePerRequest=250`."
   ]
  },
  {
   "cell_type": "code",
   "execution_count": 13,
   "metadata": {
    "ExecuteTime": {
     "end_time": "2020-10-27T11:48:05.166902Z",
     "start_time": "2020-10-27T11:48:05.015870Z"
    },
    "slideshow": {
     "slide_type": "subslide"
    }
   },
   "outputs": [],
   "source": [
    "network = Network(\"ShiftScheduler\")\n",
    "network.setAttributes('SUPERVISOR')\n",
    "\n",
    "# WORKERS\n",
    "network.addSource('Guri Malla',   cost=2500, capacityMin=2, capacityMax=2, attrs={\"SUPERVISOR\"})\n",
    "network.addSource('Søren Klype',  cost=2300, capacityMin=2, capacityMax=3, attrs={\"SUPERVISOR\"})\n",
    "network.addSource('Helle Dussen', cost=2300, capacityMin=2, capacityMax=3, attrs={\"SUPERVISOR\"})\n",
    "network.addSource('Fader Ullan',  cost=1800, capacityMin=3, capacityMax=5, attrs={\"SUPERVISOR\"})\n",
    "network.addSource('Milde Moses',  cost=1500, capacityMin=2, capacityMax=5)\n",
    "network.addSource('Gamle-Erik',   cost=1500, capacityMin=2, capacityMax=4)\n",
    "network.addSource('Gubben Noa',   cost=1500, capacityMin=1, capacityMax=4)\n",
    "network.addSource('Vittig-Per',   cost=1000, capacityMin=1, capacityMax=4)\n",
    "network.addSource('Finn Urlig',   cost=800, capacityMin=1,  capacityMax=2)\n",
    "\n",
    "# SHIFTS\n",
    "network.addSink('Monday',    capacityMin=4, attrs={\"SUPERVISOR\": 1})\n",
    "network.addSink('Tuesday',   capacityMin=4, attrs={\"SUPERVISOR\": 1})\n",
    "network.addSink('Wednesday', capacityMin=3, attrs={\"SUPERVISOR\": 1})\n",
    "network.addSink('Thursday',  capacityMin=4, attrs={\"SUPERVISOR\": 2})\n",
    "network.addSink('Friday',    capacityMin=5, attrs={\"SUPERVISOR\": 3})\n",
    "network.addSink('Saturday',  capacityMin=6, attrs={\"SUPERVISOR\": 3})\n",
    "network.addSink('Sunday',    capacityMin=5, attrs={\"SUPERVISOR\": 1})\n",
    "\n",
    "# CONSTRAINTS\n",
    "network.addEdgeConstraint(\"Fader Ullan\", \"Friday\",   \"request\", \"inactive\")\n",
    "network.addEdgeConstraint(\"Fader Ullan\", \"Saturday\", \"request\", \"inactive\")\n",
    "network.addEdgeConstraint(\"Fader Ullan\", \"Sunday\",   \"request\", \"inactive\")\n",
    "\n",
    "# SOLVE\n",
    "status = network.solve(optSense=\"minimize\", objectiveMode=\"cost+requests\", pricePerRequest=250, msg=False)"
   ]
  },
  {
   "cell_type": "code",
   "execution_count": 14,
   "metadata": {
    "ExecuteTime": {
     "end_time": "2020-10-27T11:48:05.184874Z",
     "start_time": "2020-10-27T11:48:05.167870Z"
    },
    "slideshow": {
     "slide_type": "subslide"
    }
   },
   "outputs": [
    {
     "name": "stdout",
     "output_type": "stream",
     "text": [
      "Optimal\n",
      "Objective value: 50850.0\n",
      "Total cost: 50600.0\n",
      "Happiness: 1\n",
      "    > 2 requests accepted\n",
      "    > 1 requests rejected\n",
      "\n",
      "             Monday Tuesday Wednesday Thursday Friday Saturday Sunday\n",
      "Guri Malla                                          1        1       \n",
      "Søren Klype                                         1        1       \n",
      "Helle Dussen                                 1      1               1\n",
      "Fader Ullan       1       1         1        1               1       \n",
      "Milde Moses                         1        1      1        1      1\n",
      "Gamle-Erik        1       1         1                        1       \n",
      "Gubben Noa        1                          1               1      1\n",
      "Vittig-Per        1       1                         1               1\n",
      "Finn Urlig                1                                         1\n"
     ]
    }
   ],
   "source": [
    "print(status)\n",
    "print(f\"Objective value: {network._model.objective.value()}\")\n",
    "if status == 'Optimal':\n",
    "    result = network.getResult()\n",
    "    print()\n",
    "    print(result.replace(0, ' '))"
   ]
  },
  {
   "cell_type": "markdown",
   "metadata": {},
   "source": [
    "I eksempelet over innfridde vi to forespørsler. Grunnen til at den siste forespørselen ikke ble innfridd var fordi det vil kostet bedriften mer enn 250,- å innfri den. Dersom vi ønsker å prioritere forespørsler i større grad, kan vi øke denne grensen til f.eks. 1000,-"
   ]
  },
  {
   "cell_type": "code",
   "execution_count": 15,
   "metadata": {
    "ExecuteTime": {
     "end_time": "2020-10-27T11:48:05.350874Z",
     "start_time": "2020-10-27T11:48:05.186871Z"
    },
    "slideshow": {
     "slide_type": "subslide"
    }
   },
   "outputs": [],
   "source": [
    "network = Network(\"ShiftScheduler\")\n",
    "network.setAttributes('SUPERVISOR')\n",
    "\n",
    "# WORKERS\n",
    "network.addSource('Guri Malla',   cost=2500, capacityMin=2, capacityMax=2, attrs={\"SUPERVISOR\"})\n",
    "network.addSource('Søren Klype',  cost=2300, capacityMin=2, capacityMax=3, attrs={\"SUPERVISOR\"})\n",
    "network.addSource('Helle Dussen', cost=2300, capacityMin=2, capacityMax=3, attrs={\"SUPERVISOR\"})\n",
    "network.addSource('Fader Ullan',  cost=1800, capacityMin=3, capacityMax=5, attrs={\"SUPERVISOR\"})\n",
    "network.addSource('Milde Moses',  cost=1500, capacityMin=2, capacityMax=5)\n",
    "network.addSource('Gamle-Erik',   cost=1500, capacityMin=2, capacityMax=4)\n",
    "network.addSource('Gubben Noa',   cost=1500, capacityMin=1, capacityMax=4)\n",
    "network.addSource('Vittig-Per',   cost=1000, capacityMin=1, capacityMax=4)\n",
    "network.addSource('Finn Urlig',   cost=800, capacityMin=1,  capacityMax=2)\n",
    "\n",
    "# SHIFTS\n",
    "network.addSink('Monday',    capacityMin=4, attrs={\"SUPERVISOR\": 1})\n",
    "network.addSink('Tuesday',   capacityMin=4, attrs={\"SUPERVISOR\": 1})\n",
    "network.addSink('Wednesday', capacityMin=3, attrs={\"SUPERVISOR\": 1})\n",
    "network.addSink('Thursday',  capacityMin=4, attrs={\"SUPERVISOR\": 2})\n",
    "network.addSink('Friday',    capacityMin=5, attrs={\"SUPERVISOR\": 3})\n",
    "network.addSink('Saturday',  capacityMin=6, attrs={\"SUPERVISOR\": 3})\n",
    "network.addSink('Sunday',    capacityMin=5, attrs={\"SUPERVISOR\": 1})\n",
    "\n",
    "# CONSTRAINTS\n",
    "network.addEdgeConstraint(\"Fader Ullan\", \"Friday\",   \"request\", \"inactive\")\n",
    "network.addEdgeConstraint(\"Fader Ullan\", \"Saturday\", \"request\", \"inactive\")\n",
    "network.addEdgeConstraint(\"Fader Ullan\", \"Sunday\",   \"request\", \"inactive\")\n",
    "\n",
    "# SOLVE\n",
    "status = network.solve(optSense=\"minimize\", objectiveMode=\"cost+requests\", pricePerRequest=1000, msg=False)"
   ]
  },
  {
   "cell_type": "code",
   "execution_count": 16,
   "metadata": {
    "ExecuteTime": {
     "end_time": "2020-10-27T11:48:05.369876Z",
     "start_time": "2020-10-27T11:48:05.352881Z"
    },
    "slideshow": {
     "slide_type": "subslide"
    }
   },
   "outputs": [
    {
     "name": "stdout",
     "output_type": "stream",
     "text": [
      "Optimal\n",
      "Objective value: 51100.0\n",
      "Total cost: 51100.0\n",
      "Happiness: 3\n",
      "    > 3 requests accepted\n",
      "    > 0 requests rejected\n",
      "\n",
      "             Monday Tuesday Wednesday Thursday Friday Saturday Sunday\n",
      "Guri Malla                                          1        1       \n",
      "Søren Klype                                  1      1        1       \n",
      "Helle Dussen                                        1        1      1\n",
      "Fader Ullan       1       1         1        1                       \n",
      "Milde Moses                         1        1      1        1      1\n",
      "Gamle-Erik        1       1         1                        1       \n",
      "Gubben Noa        1                          1               1      1\n",
      "Vittig-Per        1       1                         1               1\n",
      "Finn Urlig                1                                         1\n"
     ]
    }
   ],
   "source": [
    "print(status)\n",
    "print(f\"Objective value: {network._model.objective.value()}\")\n",
    "if status == 'Optimal':\n",
    "    result = network.getResult()\n",
    "    print()\n",
    "    print(result.replace(0, ' '))"
   ]
  },
  {
   "cell_type": "markdown",
   "metadata": {
    "slideshow": {
     "slide_type": "subslide"
    }
   },
   "source": [
    "### Forespørsel om arbeidskamerater\n",
    "Tilsvarende kan de ansatte også komme med ønsker om medarbeider som de ønsker eller ikke ønsker å arbeide med."
   ]
  },
  {
   "cell_type": "code",
   "execution_count": 17,
   "metadata": {
    "ExecuteTime": {
     "end_time": "2020-10-27T11:48:05.531941Z",
     "start_time": "2020-10-27T11:48:05.372874Z"
    },
    "slideshow": {
     "slide_type": "subslide"
    }
   },
   "outputs": [],
   "source": [
    "network = Network(\"ShiftScheduler\")\n",
    "network.setAttributes('SUPERVISOR')\n",
    "\n",
    "# WORKERS\n",
    "network.addSource('Guri Malla',   cost=2500, capacityMin=2, capacityMax=2, attrs={\"SUPERVISOR\"})\n",
    "network.addSource('Søren Klype',  cost=2300, capacityMin=3, capacityMax=5, attrs={\"SUPERVISOR\"})\n",
    "network.addSource('Helle Dussen', cost=2300, capacityMin=3, capacityMax=5, attrs={\"SUPERVISOR\"})\n",
    "network.addSource('Fader Ullan',  cost=1800, capacityMin=3, capacityMax=5, attrs={\"SUPERVISOR\"})\n",
    "network.addSource('Milde Moses',  cost=1500, capacityMin=2, capacityMax=5)\n",
    "network.addSource('Gamle-Erik',   cost=1500, capacityMin=2, capacityMax=5)\n",
    "network.addSource('Gubben Noa',   cost=1500, capacityMin=1, capacityMax=4)\n",
    "network.addSource('Vittig-Per',   cost=1000, capacityMin=1, capacityMax=4)\n",
    "network.addSource('Finn Urlig',   cost=800, capacityMin=1,  capacityMax=2)\n",
    "\n",
    "# SHIFTS\n",
    "network.addSink('Monday',    capacityMin=4, attrs={\"SUPERVISOR\": 1})\n",
    "network.addSink('Tuesday',   capacityMin=4, attrs={\"SUPERVISOR\": 1})\n",
    "network.addSink('Wednesday', capacityMin=3, attrs={\"SUPERVISOR\": 1})\n",
    "network.addSink('Thursday',  capacityMin=4, attrs={\"SUPERVISOR\": 1})\n",
    "network.addSink('Friday',    capacityMin=5, attrs={\"SUPERVISOR\": 2})\n",
    "network.addSink('Saturday',  capacityMin=5, attrs={\"SUPERVISOR\": 2})\n",
    "network.addSink('Sunday',    capacityMin=3, attrs={\"SUPERVISOR\": 1})\n",
    "\n",
    "# CONSTRAINTS\n",
    "network.addRelationship({\"Milde Moses\", \"Gamle-Erik\"}, \"request\", \"match\")\n",
    "\n",
    "# SOLVE\n",
    "status = network.solve(optSense=\"minimize\", objectiveMode=\"cost+requests\", pricePerRequest=250, msg=False)"
   ]
  },
  {
   "cell_type": "code",
   "execution_count": 18,
   "metadata": {
    "ExecuteTime": {
     "end_time": "2020-10-27T11:48:05.551873Z",
     "start_time": "2020-10-27T11:48:05.533876Z"
    },
    "slideshow": {
     "slide_type": "subslide"
    }
   },
   "outputs": [
    {
     "name": "stdout",
     "output_type": "stream",
     "text": [
      "Optimal\n",
      "Objective value: 45050.0\n",
      "Total cost: 46300.0\n",
      "Happiness: 1\n",
      "    > 1 requests accepted\n",
      "    > 0 requests rejected\n",
      "\n",
      "             Monday Tuesday Wednesday Thursday Friday Saturday Sunday\n",
      "Guri Malla                1                                  1       \n",
      "Søren Klype       1                          1               1       \n",
      "Helle Dussen                                 1      1               1\n",
      "Fader Ullan               1         1               1                \n",
      "Milde Moses                         1        1      1        1      1\n",
      "Gamle-Erik                          1        1      1        1      1\n",
      "Gubben Noa        1                                                  \n",
      "Vittig-Per        1       1                         1        1       \n",
      "Finn Urlig        1       1                                          \n"
     ]
    }
   ],
   "source": [
    "print(status)\n",
    "print(f\"Objective value: {network._model.objective.value()}\")\n",
    "if status == 'Optimal':\n",
    "    result = network.getResult()\n",
    "    print()\n",
    "    print(result.replace(0, ' '))"
   ]
  },
  {
   "cell_type": "markdown",
   "metadata": {
    "slideshow": {
     "slide_type": "subslide"
    }
   },
   "source": [
    "Forsøk å bytte siste parameteren i `.addRelationship()` fra `\"match\"` til `\"mismatch\"`"
   ]
  },
  {
   "cell_type": "code",
   "execution_count": 19,
   "metadata": {
    "ExecuteTime": {
     "end_time": "2020-10-27T11:48:05.691876Z",
     "start_time": "2020-10-27T11:48:05.553872Z"
    },
    "slideshow": {
     "slide_type": "subslide"
    }
   },
   "outputs": [],
   "source": [
    "network = Network(\"ShiftScheduler\")\n",
    "network.setAttributes('SUPERVISOR')\n",
    "\n",
    "# WORKERS\n",
    "network.addSource('Guri Malla',   cost=2500, capacityMin=2, capacityMax=2, attrs={\"SUPERVISOR\"})\n",
    "network.addSource('Søren Klype',  cost=2300, capacityMin=3, capacityMax=5, attrs={\"SUPERVISOR\"})\n",
    "network.addSource('Helle Dussen', cost=2300, capacityMin=3, capacityMax=5, attrs={\"SUPERVISOR\"})\n",
    "network.addSource('Fader Ullan',  cost=1800, capacityMin=3, capacityMax=5, attrs={\"SUPERVISOR\"})\n",
    "network.addSource('Milde Moses',  cost=1500, capacityMin=2, capacityMax=5)\n",
    "network.addSource('Gamle-Erik',   cost=1500, capacityMin=2, capacityMax=5)\n",
    "network.addSource('Gubben Noa',   cost=1500, capacityMin=1, capacityMax=4)\n",
    "network.addSource('Vittig-Per',   cost=1000, capacityMin=1, capacityMax=4)\n",
    "network.addSource('Finn Urlig',   cost=800, capacityMin=1,  capacityMax=2)\n",
    "\n",
    "# SHIFTS\n",
    "network.addSink('Monday',    capacityMin=4, attrs={\"SUPERVISOR\": 1})\n",
    "network.addSink('Tuesday',   capacityMin=4, attrs={\"SUPERVISOR\": 1})\n",
    "network.addSink('Wednesday', capacityMin=3, attrs={\"SUPERVISOR\": 1})\n",
    "network.addSink('Thursday',  capacityMin=4, attrs={\"SUPERVISOR\": 1})\n",
    "network.addSink('Friday',    capacityMin=5, attrs={\"SUPERVISOR\": 2})\n",
    "network.addSink('Saturday',  capacityMin=5, attrs={\"SUPERVISOR\": 2})\n",
    "network.addSink('Sunday',    capacityMin=3, attrs={\"SUPERVISOR\": 1})\n",
    "\n",
    "# CONSTRAINTS\n",
    "network.addRelationship({\"Milde Moses\", \"Gamle-Erik\"}, \"request\", \"mismatch\")\n",
    "\n",
    "# SOLVE\n",
    "status = network.solve(optSense=\"minimize\", objectiveMode=\"cost+requests\", pricePerRequest=250, msg=False)"
   ]
  },
  {
   "cell_type": "code",
   "execution_count": 20,
   "metadata": {
    "ExecuteTime": {
     "end_time": "2020-10-27T11:48:05.711896Z",
     "start_time": "2020-10-27T11:48:05.693877Z"
    },
    "slideshow": {
     "slide_type": "subslide"
    }
   },
   "outputs": [
    {
     "name": "stdout",
     "output_type": "stream",
     "text": [
      "Optimal\n",
      "Objective value: 46300.0\n",
      "Total cost: 46300.0\n",
      "Happiness: 1\n",
      "    > 1 requests accepted\n",
      "    > 0 requests rejected\n",
      "\n",
      "             Monday Tuesday Wednesday Thursday Friday Saturday Sunday\n",
      "Guri Malla                          1                        1       \n",
      "Søren Klype       1       1                                  1       \n",
      "Helle Dussen                                 1      1               1\n",
      "Fader Ullan       1                                 1               1\n",
      "Milde Moses                                         1               1\n",
      "Gamle-Erik        1       1         1        1               1       \n",
      "Gubben Noa                1                  1      1        1       \n",
      "Vittig-Per        1                          1      1        1       \n",
      "Finn Urlig                1         1                                \n"
     ]
    }
   ],
   "source": [
    "print(status)\n",
    "print(f\"Objective value: {network._model.objective.value()}\")\n",
    "if status == 'Optimal':\n",
    "    result = network.getResult()\n",
    "    print()\n",
    "    print(result.replace(0, ' '))"
   ]
  },
  {
   "cell_type": "markdown",
   "metadata": {
    "slideshow": {
     "slide_type": "slide"
    }
   },
   "source": [
    "# TODO: Lag en hyggelig avslutnings-slide"
   ]
  },
  {
   "cell_type": "markdown",
   "metadata": {
    "slideshow": {
     "slide_type": "slide"
    }
   },
   "source": [
    "# Bak kulissene til en forenklet implementasjon"
   ]
  },
  {
   "cell_type": "markdown",
   "metadata": {
    "slideshow": {
     "slide_type": "subslide"
    }
   },
   "source": [
    "## Strukturen\n",
    "\n",
    "Tidligere har vi vist planen slik man er vant til å se den\n",
    "\n",
    "<img src=\"Presentations/Fagdag 2020/Timeplan.png\">"
   ]
  },
  {
   "cell_type": "markdown",
   "metadata": {
    "slideshow": {
     "slide_type": "subslide"
    }
   },
   "source": [
    "I realiteten initialiserer vi en slik tabell med symbolske variabler. Dette er variabler som i utgangspunktet ikke har en verdi. De har imidlertid informasjon om hvilke type verdi de kan ta (i vårt tilfelle er de binære, og representerer hvorvidt en gitt person jobber på et gitt skift). Når problemet er ferdig formulert, så vil vi gi det videre til en solver som vil velge de verdiene som minimerer en elelr annen objektivfunksjon. En initiel timeplan vil i vårt tilfelle da se slik ut:\n",
    "\n",
    "<img src=\"Presentations/Fagdag 2020/Timeplan - under the hood table.png\">"
   ]
  },
  {
   "cell_type": "markdown",
   "metadata": {
    "slideshow": {
     "slide_type": "subslide"
    }
   },
   "source": [
    "En annen representasjon av samme plan er en graf som har like mange kilde-noder som ansatte, og like mange sluk-noder som skift. Det finnes en kant mellom hver kilde- og sluk-node som kan ta verdiene 0 eller 1 utfra om den gitte personen skal jobbe på det gitte skiftet.\n",
    "\n",
    "<img src=\"Presentations/Fagdag 2020/Timeplan - under the hood graph.png\">"
   ]
  },
  {
   "cell_type": "markdown",
   "metadata": {
    "slideshow": {
     "slide_type": "subslide"
    }
   },
   "source": [
    "## Sette restriksjoner for en ansatt\n",
    "For å sette restriksjoner for minste og strøste antall vakter en person kan jobbe, summerer man alle kantene som går ut fra en gitt kilde-node og tvinger denne til å holde seg mellom disse to verdiene.\n",
    "\n",
    "Til illustrasjonen under ville man benyttet følgende restriksjon:\n",
    "$$3 \\leq \\sum_{j=0}^{7}{x_{3,j}} \\leq 5$$\n",
    "<img src=\"Presentations/Fagdag 2020/Timeplan - under the hood select worker graph.png\">"
   ]
  },
  {
   "cell_type": "markdown",
   "metadata": {
    "slideshow": {
     "slide_type": "subslide"
    }
   },
   "source": [
    "Dette tilsvarer å markere en rad i tabellen\n",
    "<img src=\"Presentations/Fagdag 2020/Timeplan - under the hood select worker table.png\">"
   ]
  },
  {
   "cell_type": "markdown",
   "metadata": {
    "slideshow": {
     "slide_type": "subslide"
    }
   },
   "source": [
    "## Sette restikjsoner for et skift\n",
    "Tilsvarende setter man restriksjoner for minimum kapasitet til et skift ved å summere alle kantene inn til en sluk-node og tvinge denne til å være større eller lik en minimumsverdi.\n",
    "\n",
    "Til illustrasjonen under ville man benyttet følgende restriksjon:\n",
    "$$5 \\leq \\sum_{i=0}^{9}{x_{i,5}}$$\n",
    "\n",
    "<img src=\"Presentations/Fagdag 2020/Timeplan - under the hood select shift graph.png\">"
   ]
  },
  {
   "cell_type": "markdown",
   "metadata": {
    "slideshow": {
     "slide_type": "subslide"
    }
   },
   "source": [
    "Dette tilsvarer å markere en kolonne i tabellen\n",
    "<img src=\"Presentations/Fagdag 2020/Timeplan - under the hood select shift table.png\">"
   ]
  },
  {
   "cell_type": "markdown",
   "metadata": {
    "slideshow": {
     "slide_type": "subslide"
    }
   },
   "source": [
    "## Minimere kostnader\n",
    "\n",
    "For å minimere kostnaddene, lager vi en objektivfunksjon som minimerer summen av alle ansatte multiplisert med lønnen de har, for hvert skift\n",
    "\n",
    "$$\\textrm{minimize} \\sum_{i=0}^{9}{\\sum_{j=0}^{7}{\\textrm{kostnad}_i \\bullet x_{i,j}}}$$\n",
    "\n",
    "<img src=\"Presentations/Fagdag 2020/Timeplan - under the hood table.png\">"
   ]
  },
  {
   "cell_type": "markdown",
   "metadata": {
    "slideshow": {
     "slide_type": "subslide"
    }
   },
   "source": [
    "## Endelig formulering\n",
    "Den endelige formuleringen for et forenklet problem er som følger:\n",
    "\n",
    "$$\\textrm{minimize} \\sum_{i=0}^{9}{\\sum_{j=0}^{7}{\\textrm{kostnad}_i \\bullet x_{i,j}}}$$\n",
    "$$\\textrm{Subject to:}$$\n",
    "$$3 \\leq \\sum_{j=0}^{7}{x_{3,j}} \\leq 5$$\n",
    "$$5 \\leq \\sum_{i=0}^{9}{x_{i,5}}$$\n",
    "\n",
    "I rammeverket mitt benyttes et rammeverk som heter PuLP til å implementere objektivfunksjonen og restriksjonene. PuLP genererer deretter en såkalt LP-fil som kan leses av diverse kommersielle solvere. I vårt tilfelle benytter vi open-source solveren CBC som følger med når man installerer PuLP."
   ]
  }
 ],
 "metadata": {
  "celltoolbar": "Slideshow",
  "kernelspec": {
   "display_name": "Python 3",
   "language": "python",
   "name": "python3"
  },
  "language_info": {
   "codemirror_mode": {
    "name": "ipython",
    "version": 3
   },
   "file_extension": ".py",
   "mimetype": "text/x-python",
   "name": "python",
   "nbconvert_exporter": "python",
   "pygments_lexer": "ipython3",
   "version": "3.6.8"
  },
  "toc": {
   "base_numbering": 1,
   "nav_menu": {},
   "number_sections": true,
   "sideBar": true,
   "skip_h1_title": false,
   "title_cell": "Table of Contents",
   "title_sidebar": "Contents",
   "toc_cell": false,
   "toc_position": {},
   "toc_section_display": true,
   "toc_window_display": true
  }
 },
 "nbformat": 4,
 "nbformat_minor": 2
}
